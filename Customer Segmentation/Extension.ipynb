{
 "cells": [
  {
   "cell_type": "code",
   "execution_count": 1,
   "id": "5c9176f8-5d5c-4de3-967a-e1848e3b2a0e",
   "metadata": {},
   "outputs": [],
   "source": [
    "from sklearn.model_selection import train_test_split\n",
    "from sklearn.metrics import accuracy_score"
   ]
  },
  {
   "cell_type": "code",
   "execution_count": 2,
   "id": "9b0c1d49-b53c-4f48-b182-ea987ba1fc4d",
   "metadata": {},
   "outputs": [
    {
     "ename": "NameError",
     "evalue": "name 'dataset' is not defined",
     "output_type": "error",
     "traceback": [
      "\u001b[1;31m---------------------------------------------------------------------------\u001b[0m",
      "\u001b[1;31mNameError\u001b[0m                                 Traceback (most recent call last)",
      "Cell \u001b[1;32mIn[2], line 1\u001b[0m\n\u001b[1;32m----> 1\u001b[0m y \u001b[38;5;241m=\u001b[39m \u001b[43mdataset\u001b[49m[\u001b[38;5;124m'\u001b[39m\u001b[38;5;124mcluster\u001b[39m\u001b[38;5;124m'\u001b[39m]\n\u001b[0;32m      2\u001b[0m x \u001b[38;5;241m=\u001b[39m dataset\u001b[38;5;241m.\u001b[39mdrop(\u001b[38;5;124m'\u001b[39m\u001b[38;5;124mcluster\u001b[39m\u001b[38;5;124m'\u001b[39m,axis\u001b[38;5;241m=\u001b[39m\u001b[38;5;241m1\u001b[39m)\n",
      "\u001b[1;31mNameError\u001b[0m: name 'dataset' is not defined"
     ]
    }
   ],
   "source": [
    "y = dataset['cluster']\n",
    "x = dataset.drop('cluster',axis=1)"
   ]
  },
  {
   "cell_type": "code",
   "execution_count": null,
   "id": "ae3e528b-1ddc-4fb9-b3e3-ef65b3dd9a51",
   "metadata": {},
   "outputs": [],
   "source": [
    "indep=dataset[['cluster']]\n",
    "dep=dataset['cluster']"
   ]
  },
  {
   "cell_type": "code",
   "execution_count": null,
   "id": "361f0b36-616f-4cfb-8b43-27a0ab2238ff",
   "metadata": {},
   "outputs": [],
   "source": [
    "from sklearn.model_selection import train_test_split\n",
    "X_train, X_test, y_train, y_test = train_test_split(indep, dep, test_size = 1/3, random_state = 0)"
   ]
  },
  {
   "cell_type": "code",
   "execution_count": null,
   "id": "7d8f1a91-2b48-4944-aec7-031e20822a7e",
   "metadata": {},
   "outputs": [],
   "source": [
    "from sklearn.tree import DecisionTreeClassifier\n",
    "classifier = DecisionTreeClassifier(criterion = 'entropy', random_state = 0)\n",
    "classifier.fit(X_train, y_train)"
   ]
  },
  {
   "cell_type": "code",
   "execution_count": null,
   "id": "6a35931a-2f78-4f3f-928d-d23045de3f0c",
   "metadata": {},
   "outputs": [],
   "source": [
    "y_pred = classifier.predict(X_test)"
   ]
  },
  {
   "cell_type": "code",
   "execution_count": null,
   "id": "53140e1e-2812-4368-859f-9d6498e26389",
   "metadata": {},
   "outputs": [],
   "source": [
    "from sklearn.metrics import confusion_matrix\n",
    "cm = confusion_matrix(y_test, y_pred)"
   ]
  },
  {
   "cell_type": "code",
   "execution_count": null,
   "id": "629e5914-8c35-4220-912b-faf63eca9349",
   "metadata": {},
   "outputs": [],
   "source": [
    "from sklearn.metrics import classification_report\n",
    "clf_report = classification_report(y_test, y_pred)\n",
    "print(clf_report)"
   ]
  },
  {
   "cell_type": "code",
   "execution_count": null,
   "id": "f98f087c-6724-452a-b4b4-dfbc387611f5",
   "metadata": {},
   "outputs": [],
   "source": [
    "from sklearn.ensemble import GradientBoostingClassifier\n",
    "from sklearn.metrics import accuracy_score, classification_report, confusion_matrix\n",
    "\n",
    "# Assume y_pred is your predicted output and y_test is your actual output\n",
    "\n",
    "print(\"Accuracy:\", accuracy_score(y_test, y_pred))\n",
    "print(\"Classification Report:\\n\", classification_report(y_test, y_pred))\n",
    "print(\"Confusion Matrix:\\n\", confusion_matrix(y_test, y_pred))"
   ]
  },
  {
   "cell_type": "code",
   "execution_count": null,
   "id": "92341141-3b6f-4c55-84b8-bd21b9a6c4f5",
   "metadata": {},
   "outputs": [],
   "source": [
    "from sklearn.metrics import accuracy_score, classification_report, confusion_matrix\n",
    "from sklearn.model_selection import cross_val_score\n",
    "from sklearn.ensemble import RandomForestClassifier\n",
    "from sklearn.datasets import load_iris\n",
    "from sklearn.model_selection import train_test_split\n",
    "\n",
    "# Load iris dataset\n",
    "iris = load_iris()\n",
    "X = iris.data\n",
    "y = iris.target\n",
    "\n",
    "# Split data into training and testing sets\n",
    "X_train, X_test, y_train, y_test = train_test_split(X, y, test_size=0.2, random_state=42)\n",
    "\n",
    "# Initialize and train Random Forest Classifier\n",
    "rf = RandomForestClassifier(n_estimators=100)\n",
    "rf.fit(X_train, y_train)\n",
    "\n",
    "# Predict on test set\n",
    "y_pred = rf.predict(X_test)\n",
    "\n",
    "# Evaluate model performance\n",
    "print(\"Accuracy:\", accuracy_score(y_test, y_pred))\n",
    "print(\"Classification Report:\\n\", classification_report(y_test, y_pred))\n",
    "print(\"Confusion Matrix:\\n\", confusion_matrix(y_test, y_pred))\n",
    "\n",
    "# Cross-validation score\n",
    "scores = cross_val_score(rf, X_train, y_train, cv=5)\n",
    "print(\"Cross-Validation Scores:\", scores)\n",
    "print(\"Average Cross-Validation Score:\", scores.mean())"
   ]
  },
  {
   "cell_type": "code",
   "execution_count": null,
   "id": "3f266eac-b2b8-4b94-96e9-1fd3ee72db02",
   "metadata": {},
   "outputs": [],
   "source": [
    "clf = classification_report(y_test, y_pred, output_dict=True)\n",
    "clf"
   ]
  },
  {
   "cell_type": "code",
   "execution_count": null,
   "id": "402f1b76-5a70-4e81-97aa-074efc696d10",
   "metadata": {},
   "outputs": [],
   "source": [
    "dataset = pd.DataFrame(clf).transpose()\n",
    "metrics_gd = dataset.drop('support',axis=1).drop(index=['accuracy', 'macro avg', 'weighted avg'])\n",
    "metrics_gd.index = ['Cluster 1', 'Cluster 2', 'Cluster 3']\n",
    "metrics_gd"
   ]
  },
  {
   "cell_type": "code",
   "execution_count": null,
   "id": "a7f2c35b-798e-442a-89a6-614dce939109",
   "metadata": {},
   "outputs": [],
   "source": [
    "metrics_gd.plot(kind='bar', figsize=(10,7))\n",
    "plt.title('Classification Report for Gradient Boost')\n",
    "plt.xlabel('Classes')\n",
    "plt.ylabel('Scores')\n",
    "plt.xticks(rotation=90)\n",
    "plt.legend(loc='center left')\n",
    "plt.show()"
   ]
  },
  {
   "cell_type": "code",
   "execution_count": null,
   "id": "cc3dc6b6-7d1b-4d86-89fe-5d1bbd0a1665",
   "metadata": {},
   "outputs": [],
   "source": [
    "clf = classification_report(y_test, y_pred, output_dict=True)\n",
    "clf"
   ]
  },
  {
   "cell_type": "code",
   "execution_count": null,
   "id": "a9d1cc68-2466-4a4d-aa12-21b2a787d653",
   "metadata": {},
   "outputs": [],
   "source": [
    "clf = pd.DataFrame(clf).transpose()\n",
    "metrics_rf = clf.drop('support',axis=1).drop(index=['accuracy', 'macro avg', 'weighted avg'])\n",
    "metrics_rf.index = ['Cluster 1', 'Cluster 2', 'Cluster 3']\n",
    "metrics_rf"
   ]
  },
  {
   "cell_type": "code",
   "execution_count": null,
   "id": "d2a96eac-c8e0-473d-b81f-02f75c0848fd",
   "metadata": {},
   "outputs": [],
   "source": [
    "metrics_rf.plot(kind='bar', figsize=(10,7))\n",
    "plt.title('Classification Report for RandomForest')\n",
    "plt.xlabel('Classes')\n",
    "plt.ylabel('Scores')\n",
    "plt.xticks(rotation=90)\n",
    "plt.legend(loc='center left')\n",
    "plt.show()"
   ]
  }
 ],
 "metadata": {
  "kernelspec": {
   "display_name": "Python 3 (ipykernel)",
   "language": "python",
   "name": "python3"
  },
  "language_info": {
   "codemirror_mode": {
    "name": "ipython",
    "version": 3
   },
   "file_extension": ".py",
   "mimetype": "text/x-python",
   "name": "python",
   "nbconvert_exporter": "python",
   "pygments_lexer": "ipython3",
   "version": "3.10.0"
  }
 },
 "nbformat": 4,
 "nbformat_minor": 5
}
